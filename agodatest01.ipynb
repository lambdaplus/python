{
 "cells": [
  {
   "cell_type": "code",
   "execution_count": 7,
   "metadata": {
    "collapsed": false
   },
   "outputs": [
    {
     "ename": "IndexError",
     "evalue": "list index out of range",
     "output_type": "error",
     "traceback": [
      "\u001b[1;31m---------------------------------------------------------------------------\u001b[0m",
      "\u001b[1;31mIndexError\u001b[0m                                Traceback (most recent call last)",
      "\u001b[1;32m<ipython-input-7-744512d08d02>\u001b[0m in \u001b[0;36m<module>\u001b[1;34m()\u001b[0m\n\u001b[0;32m     70\u001b[0m     \u001b[1;32mwith\u001b[0m \u001b[0mopen\u001b[0m\u001b[1;33m(\u001b[0m\u001b[1;34m'/home/mouse/anaconda3/agoda003.csv'\u001b[0m\u001b[1;33m,\u001b[0m \u001b[1;34m'a'\u001b[0m\u001b[1;33m)\u001b[0m \u001b[1;32mas\u001b[0m \u001b[0mf\u001b[0m\u001b[1;33m:\u001b[0m\u001b[1;33m\u001b[0m\u001b[0m\n\u001b[0;32m     71\u001b[0m         \u001b[1;32mfor\u001b[0m \u001b[0mi\u001b[0m \u001b[1;32min\u001b[0m \u001b[0mrange\u001b[0m\u001b[1;33m(\u001b[0m\u001b[0mlen\u001b[0m\u001b[1;33m(\u001b[0m\u001b[0mLevel\u001b[0m\u001b[1;33m)\u001b[0m\u001b[1;33m)\u001b[0m\u001b[1;33m:\u001b[0m\u001b[1;33m\u001b[0m\u001b[0m\n\u001b[1;32m---> 72\u001b[1;33m             \u001b[0mhotelInfo\u001b[0m \u001b[1;33m=\u001b[0m \u001b[1;34m'%s; %s; %s'\u001b[0m \u001b[1;33m%\u001b[0m \u001b[1;33m(\u001b[0m\u001b[0mHotle_Name\u001b[0m\u001b[1;33m[\u001b[0m\u001b[0mi\u001b[0m\u001b[1;33m]\u001b[0m\u001b[1;33m,\u001b[0m \u001b[0mLevel\u001b[0m\u001b[1;33m[\u001b[0m\u001b[0mi\u001b[0m\u001b[1;33m]\u001b[0m\u001b[1;33m,\u001b[0m \u001b[0mLocation\u001b[0m\u001b[1;33m[\u001b[0m\u001b[0mi\u001b[0m\u001b[1;33m]\u001b[0m\u001b[1;33m)\u001b[0m\u001b[1;33m\u001b[0m\u001b[0m\n\u001b[0m\u001b[0;32m     73\u001b[0m             \u001b[0mf\u001b[0m\u001b[1;33m.\u001b[0m\u001b[0mwritelines\u001b[0m\u001b[1;33m(\u001b[0m\u001b[0mhotelInfo\u001b[0m \u001b[1;33m+\u001b[0m \u001b[1;34m'\\n'\u001b[0m\u001b[1;33m)\u001b[0m\u001b[1;33m\u001b[0m\u001b[0m\n\u001b[0;32m     74\u001b[0m         \u001b[0mprint\u001b[0m\u001b[1;33m(\u001b[0m\u001b[1;34m'Crawling...... \\nThe page number is %d'\u001b[0m \u001b[1;33m%\u001b[0m\u001b[0mj\u001b[0m\u001b[1;33m)\u001b[0m\u001b[1;33m\u001b[0m\u001b[0m\n",
      "\u001b[1;31mIndexError\u001b[0m: list index out of range"
     ]
    }
   ],
   "source": [
    "# -*- coding: utf-8 -*-\n",
    "\n",
    "from selenium import webdriver\n",
    "from selenium.webdriver.common.keys import Keys\n",
    "from selenium.common.exceptions import NoSuchElementException\n",
    "from bs4 import BeautifulSoup as bs\n",
    "import re, csv, time\n",
    "\n",
    "next = ['Next'] #后面会用\n",
    "url = 'http://www.agoda.com/pages/agoda/default/DestinationSearchResult.aspx?asq=LYqNjCU3K77lFCeHdsHoCcltLsM8gnXF9UdL4IY4sbxm2R%2fBEoUThw7YQMMd52jX64kk7a%2ftjPj1bp0uTDqoA4wRFe1oaY7p4FOxKNc8K55TMkun9NMX7y9sU13nDxwmbS3dzzacn%2bn7QZeTArmFDymZt%2bHTMhZofKWMifFALoJPCoQxAD18HHAgw7ya3ox%2b&city=3987&tick=635858641059&checkin=2015-12-17&checkout=2015-12-19&CheckInMonthYear=12-2015&los=2&SelectedGuestOption=2&rooms=1&adults=2&children=0&cityId=&countryId=&objectId=&pageTypeId=0&isHotel=False'\n",
    "\n",
    "#def liking_level(soup): #\n",
    "#    h3 = soup.select('.review-info h3')\n",
    "#    fan = re.findall(r'\"review-score\">(.*?)</h3>', str(h3), re.S)\n",
    "#    return fan\n",
    "\n",
    "def level(soup, L1=[]):\n",
    "    discount = soup.select('.hotel-info h3 i')\n",
    "    star = re.findall(r'\">(.*?)</i>', str(discount), re.S)\n",
    "    L1 = [st.strip() for st in star]\n",
    "    return L1\n",
    "\n",
    "#def evaluate(soup):\n",
    "#    eval_num = soup.select('.review-info a')\n",
    "#    eval = re.findall(r'target=\"_blank\">(.*?)</a>', str(eval_num), re.S)\n",
    "#    return eval\n",
    "\n",
    "def room_Type(soup):\n",
    "    detail = soup.select('.room-type')\n",
    "    room_type = re.findall(r'title=\"(.*?)\">', str(detail), re.S)\n",
    "    return room_type[::2]\n",
    "\n",
    "def location(soup, L=None):\n",
    "    locate = soup.select('.hotel-info strong a')\n",
    "    lon = re.findall(r'Show map\">(.*?)</a>', str(locate), re.S)\n",
    "    for lo in lon:\n",
    "        if L is None:\n",
    "            L = []\n",
    "        L.append(lo.strip())\n",
    "    return L\n",
    "\n",
    "def hotel_name(soup,L2=[]):\n",
    "    hotel_name_field = soup.select('.hotel-info h3 a')\n",
    "    L2 = [name.text for name in hotel_name_field]\n",
    "    return L2\n",
    "\n",
    "#下面的5行作用是去掉css js等，以加快浏览器加载速度\n",
    "firefox_profile = webdriver.FirefoxProfile()\n",
    "firefox_profile.set_preference(\"browser.download.folderList\", 2)\n",
    "firefox_profile.set_preference(\"permissions.default.stylesheet\", 2)\n",
    "firefox_profile.set_preference(\"permissions.default.image\", 2)\n",
    "firefox_profile.set_preference(\"javascript.enable\", False)\n",
    "\n",
    "browser = webdriver.Firefox(firefox_profile=firefox_profile)\n",
    "#browser = webdriver.Firefox()\n",
    "browser.implicitly_wait(10)\n",
    "browser.get(url)\n",
    "soup = bs(browser.page_source)\n",
    "\n",
    "j = 1\n",
    "while next == ['Next']:\n",
    "    \n",
    "#    Like = liking_level(soup)\n",
    "#    Room_Type = room_Type(soup)\n",
    "#    Evaluate = evaluate(soup)\n",
    "    Level = level(soup)\n",
    "    Hotle_Name = hotel_name(soup)\n",
    "    Location = location(soup)\n",
    "    \n",
    "    with open('/home/mouse/anaconda3/agoda003.csv', 'a') as f:\n",
    "        for i in range(len(Level)):\n",
    "            hotelInfo = '%s; %s; %s' % (Hotle_Name[i], Level[i], Location[i])\n",
    "            f.writelines(hotelInfo + '\\n')\n",
    "        print('Crawling...... \\nThe page number is %d' %j)\n",
    "    try:      \n",
    "        pager_right = soup.select('.pager-right')\n",
    "        next = re.findall(r'>(.*?)</a>', str(pager_right), re.S)\n",
    "        browser.find_element_by_link_text(\"Next\").click()\n",
    "        time.sleep(3)\n",
    "        soup = bs(browser.page_source)\n",
    "        j += 1\n",
    "    except NoSuchElementException:\n",
    "        print('Done...........................')\n",
    "    except StaleElementReferenceException:\n",
    "        print('困死了，别问我哪里错了，吻我！！！！！！')\n",
    "        \n",
    "browser.close()"
   ]
  },
  {
   "cell_type": "code",
   "execution_count": null,
   "metadata": {
    "collapsed": true
   },
   "outputs": [],
   "source": []
  }
 ],
 "metadata": {
  "kernelspec": {
   "display_name": "Python 3",
   "language": "python",
   "name": "python3"
  },
  "language_info": {
   "codemirror_mode": {
    "name": "ipython",
    "version": 3
   },
   "file_extension": ".py",
   "mimetype": "text/x-python",
   "name": "python",
   "nbconvert_exporter": "python",
   "pygments_lexer": "ipython3",
   "version": "3.4.1"
  }
 },
 "nbformat": 4,
 "nbformat_minor": 0
}
