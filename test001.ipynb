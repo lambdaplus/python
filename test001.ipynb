{
 "cells": [
  {
   "cell_type": "code",
   "execution_count": 2,
   "metadata": {
    "collapsed": false
   },
   "outputs": [
    {
     "name": "stdout",
     "output_type": "stream",
     "text": [
      "30\n",
      "['kinglyline', 'whfcn2012', '记忆中的大条', '青春若伤_', '瑟涩毁穑天空', '曾经丿就是曾经', '默言lz', '15136728466', '半颗糖丨也很甜', '黑涩幽默zero', '骑潴走天下', '青峰哲陽', '你的明天能怎样', '桙渹', '第二晴空free', '顾北笙歌寒', '小小的我找不到', '阿呆小屁孩儿', '瀵烩槥瑙呪劇', '没听到没看到F', 'Med丶小恒', '不就是没睡嗯了', '回忆很心痛', '新壹代富翁', '儒雅的永龙Love', 'Sherling95', '祝昔阳shine', '虐爆小兰兰', '听天使经过身边', 'woai媛mm']\n",
      "34\n",
      "['本人女，164，110，室友老说我胖，黯然神伤了好久，真的算很胖吗', '比我还重！。。。', '如果你170就算身材好', '———愿有梦的孩子以梦为马随处可栖', '183cm    119', '你胖不胖，', '图呢', '本人男，174，114', '不算胖', '肿么了', '178cm，140斤胖吗', '“在我眼中你最美”，，是这么唱的吧', '﹏ ₯㎕ℳ๓₯﹍﹍\\u3000 我戒不掉 她的微笑 洋溢着幸福的味道', '…美美美', '看肉长在哪个部位？', '男生大多数喜欢丰满美', '算', '哦，还可以吧…毕竟我是一个180/190的存在', '图', '冬天都会胖，夏天立马能瘦十几斤', '胖！～！', '本人180，110', '身高体重和你一样', '比我还重', '胖怎么了，说明胃好，吸收能力强', '无图无真相', '--消息来自你绝对买不起的iphone10086性感金客户端', '看肉长在那里', '你说了', '', '胖 一百斤就够了', '还行吧，和我女朋友差不多', '我，男，170，97', '我，男175  108']\n",
      "Crawling the page 1\n",
      "24\n",
      "['财心爱', '长_安乱', '隼魍', '萌面人A艾', 'scg5211314', 'scg5211314', '17薄荷', '加勒比的河贼', '想飞的丶小鱼', '灬呼噜娃灬', '听风yy想念', '本小男不帅', '丿旋丨律', '亲亲爱的凡老大', 'HLY是个好姑娘', '花香蝶自来亚麻', '小毛毛毛腻', 'savior的家', '苦灯一张纸', '江亚坤', 'pxn19950128', '丶帅哥村村长', '笑着掩饰泪滴', '常577892578']\n",
      "29\n",
      "['我女朋友八十多斤', '微胖', '男，178，128，', '你说你还胖吗？', '也有可能是你脸肥', '不胖  我150  100', '额，忘了说  如果身上肌肉多，肉结实  这个体重不胖。如果都是脂肪那就另当别论了', '没有啊', '看肉长哪了', '我不嫌你胖', '嗯', '179,118你胖吗？', '我不嫌弃你胖', '真的是看肉长哪     长在脸上就显胖', '165 95', '一米二', '二百斤', '这个体重刚好吧，我觉得微胖的女生挺好', '168  100', '( ˘•ω•˘ )(›´ω`‹ )⁽˙³˙⁾◟(๑•́ ₃ •̀๑)◞⁽˙³˙⁾', '让青春吹动了你的长发让它牵引你的梦', '不知不觉这城市的历史已记取了你的笑容', '单位是kg吧', '可以，不胖', '有点儿', '比我重', '我一男的一米八才124斤...比你高16厘米才比你胖14斤...你说胖不胖..', '不胖，和我媳妇差不多重', '在我看来还好']\n",
      "Crawling the page 2\n",
      "Done.........\n"
     ]
    }
   ],
   "source": [
    "import requests\n",
    "import csv\n",
    "from lxml import etree\n",
    "\n",
    "def tieba(url):\n",
    "    html = requests.get(url).content\n",
    "    root = etree.HTML(html)\n",
    "    id = root.xpath('//a[@alog-group=\"p_author\"]/text()')\n",
    "    print(len(id))\n",
    "    print(id)\n",
    "    comments = root.xpath('//*[starts-with(@id, \"post_content_\")]/text()')\n",
    "    L = []\n",
    "    for comment in comments:\n",
    "        L.append(comment.strip())\n",
    "    print(len(L))\n",
    "    print(L)\n",
    "    return L\n",
    "\n",
    "    with open('/home/mouse/anaconda3/tiebacontent.csv', 'a') as f:\n",
    "        for i in range(len(id)):\n",
    "            contents = '%s' %(id[i])\n",
    "            f.writelines(contents + '\\n')\n",
    "#        print('Done..........page...........%d' %j)\n",
    "        \n",
    "if __name__ == '__main__':\n",
    "    for j in range(1, 3):\n",
    "        url = 'http://tieba.baidu.com/p/4225722222?pn=%d' %j\n",
    "        tieba(url)\n",
    "        print('Crawling the page %d' %j)\n",
    "    print('Done.........')"
   ]
  },
  {
   "cell_type": "code",
   "execution_count": 47,
   "metadata": {
    "collapsed": false
   },
   "outputs": [
    {
     "data": {
      "text/plain": [
       "34"
      ]
     },
     "execution_count": 47,
     "metadata": {},
     "output_type": "execute_result"
    }
   ],
   "source": [
    "comments = root.xpath('//*[starts-with(@id, \"post_content_\")]/text()')\n",
    "L = []\n",
    "for comment in comments:\n",
    "    L.append(comment.strip())\n",
    "len(L)"
   ]
  }
 ],
 "metadata": {
  "kernelspec": {
   "display_name": "Python 3",
   "language": "python",
   "name": "python3"
  },
  "language_info": {
   "codemirror_mode": {
    "name": "ipython",
    "version": 3
   },
   "file_extension": ".py",
   "mimetype": "text/x-python",
   "name": "python",
   "nbconvert_exporter": "python",
   "pygments_lexer": "ipython3",
   "version": "3.4.1"
  }
 },
 "nbformat": 4,
 "nbformat_minor": 0
}
