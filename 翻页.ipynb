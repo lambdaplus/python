{
 "cells": [
  {
   "cell_type": "code",
   "execution_count": null,
   "metadata": {
    "collapsed": true
   },
   "outputs": [],
   "source": [
    "from selenium import selenium\n",
    "from selenium import webdriver\n",
    "from selenium.webdriver.common.keys import Keys\n",
    "from selenium.common.exceptions import NoSuchElementException\n",
    "#from selenium.webdriver.support import expected_conditions as EC\n",
    "from bs4 import BeautifulSoup as bs\n",
    "import requests, re, csv, time\n",
    "\n",
    "next = ['Next']\n",
    "url = 'http://www.agoda.com/pages/agoda/default/DestinationSearchResult.aspx?asq=LYqNjCU3K77lFCeHdsHoCcltLsM8gnXF9UdL4IY4sbxm2R%2fBEoUThw7YQMMd52jX64kk7a%2ftjPj1bp0uTDqoA4wRFe1oaY7p4FOxKNc8K55TMkun9NMX7y9sU13nDxwmbS3dzzacn%2bn7QZeTArmFDymZt%2bHTMhZofKWMifFALoJPCoQxAD18HHAgw7ya3ox%2b&city=3987&tick=635858641059&checkin=2015-12-17&checkout=2015-12-19&CheckInMonthYear=12-2015&los=2&SelectedGuestOption=2&rooms=1&adults=2&children=0&cityId=&countryId=&objectId=&pageTypeId=0&isHotel=False'\n",
    "\n",
    "def liking_level(soup): #获得旅客的整体评价\n",
    "    h3 = soup.select('.review-info h3')\n",
    "    fan = re.findall(r'\"review-score\">(.*?)</h3>', str(h3), re.S)\n",
    "    return fan\n",
    "\n",
    "browser = webdriver.Firefox()\n",
    "browser.implicitly_wait(10)\n",
    "browser.get(url)\n",
    "soup = bs(browser.page_source)\n",
    "j = 1\n",
    "while next == ['Next']:\n",
    "    Like = liking_level(soup)\n",
    "    with open('/home/mouse/anaconda3/agoda004.csv', 'a') as f:\n",
    "        for i in range(len(Like)):\n",
    "            hotelInfo = '%s' % Like[i]\n",
    "            f.writelines(hotelInfo + '\\n')                        \n",
    "        print('Crawling...... \\nThe pager number is %d' % j)\n",
    "    pager_right = soup.select('.pager-right')\n",
    "    next = re.findall(r'>(.*?)</a>', str(pager_right), re.S)\n",
    "    browser.find_element_by_link_text(\"Next\").click()       \n",
    "    time.sleep(10)\n",
    "    soup = bs(browser.page_source)\n",
    "    j += 1\n",
    "        \n",
    "browser.close()"
   ]
  }
 ],
 "metadata": {
  "kernelspec": {
   "display_name": "Python 3",
   "language": "python",
   "name": "python3"
  },
  "language_info": {
   "codemirror_mode": {
    "name": "ipython",
    "version": 3
   },
   "file_extension": ".py",
   "mimetype": "text/x-python",
   "name": "python",
   "nbconvert_exporter": "python",
   "pygments_lexer": "ipython3",
   "version": "3.4.1"
  }
 },
 "nbformat": 4,
 "nbformat_minor": 0
}
