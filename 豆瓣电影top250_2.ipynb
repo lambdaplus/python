{
 "cells": [
  {
   "cell_type": "code",
   "execution_count": 2,
   "metadata": {
    "collapsed": false
   },
   "outputs": [
    {
     "name": "stdout",
     "output_type": "stream",
     "text": [
      "Crawling................page................. 1\n",
      "Crawling................page................. 2\n",
      "Crawling................page................. 3\n",
      "Crawling................page................. 4\n",
      "Crawling................page................. 5\n",
      "Crawling................page................. 6\n",
      "Crawling................page................. 7\n",
      "Crawling................page................. 8\n",
      "Crawling................page................. 9\n",
      "Crawling................page................. 10\n"
     ]
    }
   ],
   "source": [
    "import requests\n",
    "import time\n",
    "import csv\n",
    "from lxml import etree\n",
    "\n",
    "head = {'user-agent':'Mozilla/5.0 (X11; Linux x86_64) AppleWebKit/537.36 (KHTML, like Gecko) Chrome/47.0.2526.73 Safari/537.36'}\n",
    "\n",
    "def moviesinfo(url):\n",
    "    html = requests.get(url, headers=head)\n",
    "    root = etree.HTML(html.content)\n",
    "    movies = root.xpath('//div[@class=\"info\"]')\n",
    "        \n",
    "    for eachmovie in movies:\n",
    "        mv_name = eachmovie.xpath(\"//div[@class='hd']/a/span[1]/text()\")\n",
    "        mv_evaluate = eachmovie.xpath('//div[@class=\"star\"]/span[4]/text()')\n",
    "        mv_score = eachmovie.xpath('////div[@class=\"star\"]/span[2]/text()')\n",
    "        mv_quote = eachmovie.xpath('//span[@class=\"inq\"]/text()')\n",
    "        mv_rank = eachmovie.xpath('//em/text()')\n",
    "    with open('/home/mouse/anaconda3/doubantop002.csv', 'a') as f:\n",
    "        for i in range(len(mv_name)):\n",
    "            mv_info = '%s; %s; %s; %s; %s' % (mv_rank[i], mv_name[i], mv_score[i], mv_evaluate[i], mv_quote[i]) \n",
    "            f.writelines(mv_info + '\\n')\n",
    "        print('Crawling................page................. %d' %(j+1))\n",
    "    \n",
    "if __name__ == '__main__':\n",
    "    for j in range(10):\n",
    "        url = 'https://movie.douban.com/top250?start=%d' % (j*25)\n",
    "        moviesinfo(url)"
   ]
  },
  {
   "cell_type": "code",
   "execution_count": 76,
   "metadata": {
    "collapsed": false
   },
   "outputs": [
    {
     "name": "stdout",
     "output_type": "stream",
     "text": [
      "CPU times: user 0 ns, sys: 0 ns, total: 0 ns\n",
      "Wall time: 8.34 µs\n"
     ]
    }
   ],
   "source": []
  }
 ],
 "metadata": {
  "kernelspec": {
   "display_name": "Python 3",
   "language": "python",
   "name": "python3"
  },
  "language_info": {
   "codemirror_mode": {
    "name": "ipython",
    "version": 3
   },
   "file_extension": ".py",
   "mimetype": "text/x-python",
   "name": "python",
   "nbconvert_exporter": "python",
   "pygments_lexer": "ipython3",
   "version": "3.4.1"
  }
 },
 "nbformat": 4,
 "nbformat_minor": 0
}
